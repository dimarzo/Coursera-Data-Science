{
 "cells": [
  {
   "cell_type": "markdown",
   "metadata": {},
   "source": [
    "# Public administrative offices of Lecce (Puglia, Italy) & venues of interest in FourSquare"
   ]
  },
  {
   "cell_type": "markdown",
   "metadata": {},
   "source": [
    "## ing. Dario Di Marzo"
   ]
  },
  {
   "cell_type": "markdown",
   "metadata": {},
   "source": [
    "## Table of Contents"
   ]
  },
  {
   "cell_type": "markdown",
   "metadata": {},
   "source": [
    "* Introduction : The Business Problem\n",
    "* Methodology : The Data"
   ]
  },
  {
   "cell_type": "markdown",
   "metadata": {},
   "source": [
    "## Introduction : The Business Problem"
   ]
  },
  {
   "cell_type": "markdown",
   "metadata": {},
   "source": [
    "In this notebook we solve the problem to provide venues'informations for users visiting administrative offices in Lecce, Puglia. \n",
    "A user, specially tourist, so will enjoy a map, always updated by FourSquare, of places interest or private services in the proximity of administrative offices that he needs.\n",
    "The stakeholders will be the public administration interested in a better public services development. "
   ]
  },
  {
   "cell_type": "markdown",
   "metadata": {},
   "source": [
    "## Methodology: The Data"
   ]
  },
  {
   "cell_type": "markdown",
   "metadata": {},
   "source": [
    "[Foursquare page of Lecce venues](https://it.foursquare.com/explore?mode=url&ne=40.370874%2C18.212628&q=Cibi&sw=40.330515%2C18.140616)\n",
    "\n",
    "[Open Data of Lecce Public Administration - Comune di Lecce](http://dati.comune.lecce.it/dataset/elenco-ubicazione-e-orari-sedi-comune-di-lecce)"
   ]
  }
 ],
 "metadata": {
  "kernelspec": {
   "display_name": "Python 3",
   "language": "python",
   "name": "python3"
  },
  "language_info": {
   "codemirror_mode": {
    "name": "ipython",
    "version": 3
   },
   "file_extension": ".py",
   "mimetype": "text/x-python",
   "name": "python",
   "nbconvert_exporter": "python",
   "pygments_lexer": "ipython3",
   "version": "3.8.5"
  }
 },
 "nbformat": 4,
 "nbformat_minor": 4
}
